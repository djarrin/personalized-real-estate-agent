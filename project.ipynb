{
 "cells": [
  {
   "cell_type": "markdown",
   "id": "f6433a6e-94ad-4884-b5c1-77a3e7b850a9",
   "metadata": {},
   "source": [
    "## Import Dependencies and Setup Enviroment"
   ]
  },
  {
   "cell_type": "code",
   "execution_count": 11,
   "id": "b29a2848-3f64-4489-9c1b-b91fb0fb69e8",
   "metadata": {},
   "outputs": [],
   "source": [
    "import os\n",
    "import openai\n",
    "import json\n",
    "import time\n",
    "from dotenv import load_dotenv\n",
    "from langchain.llms import OpenAI\n",
    "from langchain.vectorstores import Chroma\n",
    "from langchain.embeddings.openai import OpenAIEmbeddings\n",
    "from langchain.text_splitter import CharacterTextSplitter\n",
    "from langchain.schema import Document"
   ]
  },
  {
   "cell_type": "code",
   "execution_count": 2,
   "id": "3029da8b-b6ad-46eb-99dd-7b88cbf22f3f",
   "metadata": {},
   "outputs": [],
   "source": [
    "_ = load_dotenv()\n",
    "openai.api_key = os.getenv(\"OPENAI_API_KEY\")\n",
    "openai.api_base = os.getenv(\"OPENAI_API_BASE\")"
   ]
  },
  {
   "cell_type": "markdown",
   "id": "5eea1725-e12b-4122-ad2d-0f1b6136791c",
   "metadata": {},
   "source": [
    "## Generate Seed Data via LLM"
   ]
  },
  {
   "cell_type": "code",
   "execution_count": 7,
   "id": "afbdafe7-6718-4395-82c0-dd0700f79a15",
   "metadata": {},
   "outputs": [],
   "source": [
    "def generate_home_listings(prompt):\n",
    "    system_prompt = \"\"\"\n",
    "    You are a real estate listing assistant specializing in crafting compelling and informative home descriptions. Your task is to generate real estate listings in **valid JSON format** based on user-provided details.\n",
    "    \n",
    "    Each listing should strictly follow this JSON format:\n",
    "\n",
    "    {\n",
    "        \"Neighborhood\": \"[Neighborhood Name]\",\n",
    "        \"Price\": \"$[Price]\",\n",
    "        \"Bedrooms\": [Number of Bedrooms],\n",
    "        \"Bathrooms\": [Number of Bathrooms],\n",
    "        \"House_Size\": \"[Size in sqft]\",\n",
    "        \"Description\": \"[Compelling property description]\",\n",
    "        \"Neighborhood_Description\": \"[Engaging neighborhood description]\"\n",
    "    }\n",
    "\n",
    "    **Rules:**\n",
    "    - Return output in **pure JSON format** without any extra text.\n",
    "    - Ensure values are properly formatted.\n",
    "    - Use double quotes `\" \"` for JSON keys and values.\n",
    "    \n",
    "    Description:\n",
    "    Provide a captivating yet concise property description, emphasizing key selling points such as architectural style, unique features, energy efficiency, or location benefits. Use persuasive language to make the home appealing to potential buyers. Highlight amenities, natural lighting, interior design elements, and lifestyle advantages.\n",
    "    \n",
    "    Neighborhood Description:\n",
    "    Offer a brief, engaging description of the neighborhood. Highlight aspects such as community atmosphere, parks, restaurants, transportation, and local attractions. Focus on features that would be appealing to potential buyers considering the area.\n",
    "    \n",
    "    Maintain a professional and inviting tone, ensuring the listing feels aspirational yet grounded in reality. Avoid exaggeration while emphasizing the home’s best features.\n",
    "    \"\"\"\n",
    "    \n",
    "    try:\n",
    "        response = openai.ChatCompletion.create(\n",
    "          model=\"gpt-3.5-turbo\",\n",
    "          messages=[\n",
    "          {\n",
    "            \"role\": \"system\",\n",
    "            \"content\": system_prompt\n",
    "          },\n",
    "          {\n",
    "            \"role\": \"user\",\n",
    "            \"content\": prompt\n",
    "          }\n",
    "          ],\n",
    "        temperature=1,\n",
    "        max_tokens=256,\n",
    "        top_p=1,\n",
    "        frequency_penalty=0,\n",
    "        presence_penalty=0\n",
    "        )\n",
    "\n",
    "        raw_response = response.choices[0].message.content.strip()  \n",
    "\n",
    "        if raw_response.startswith(\"{\") and raw_response.endswith(\"}\"):\n",
    "            listing = json.loads(raw_response)  \n",
    "        else:\n",
    "            raise ValueError(\"OpenAI did not return valid JSON\")\n",
    "\n",
    "        return listing\n",
    "\n",
    "    except Exception as e:\n",
    "        return f\"An error occurred: {e}\" \n",
    "\n",
    "def generate_multiple_listings(prompts):\n",
    "    listings = []\n",
    "\n",
    "    for i, prompt in enumerate(prompts):\n",
    "        print(f\"Generating listing {i+1}/{len(prompts)}...\")\n",
    "        listing = generate_home_listings(prompt)\n",
    "        \n",
    "        if \"An error occurred\" not in listing:\n",
    "            listings.append(listing)\n",
    "        else:\n",
    "            print(f\"Error in listing {i+1}: {listing}\")\n",
    "\n",
    "        time.sleep(1)  \n",
    "\n",
    "    with open(\"home_listings.json\", \"w\") as f:\n",
    "        json.dump(listings, f, indent=4)\n",
    "\n",
    "    print(f\"Saved {len(listings)} listings to home_listings.json\")\n",
    "\n",
    "    return listings"
   ]
  },
  {
   "cell_type": "code",
   "execution_count": 14,
   "id": "4e256a6f-b37b-469f-a43f-56912e0be687",
   "metadata": {},
   "outputs": [
    {
     "name": "stdout",
     "output_type": "stream",
     "text": [
      "Generating listing 1/15...\n",
      "Generating listing 2/15...\n",
      "Generating listing 3/15...\n",
      "Generating listing 4/15...\n",
      "Generating listing 5/15...\n",
      "Generating listing 6/15...\n",
      "Generating listing 7/15...\n",
      "Generating listing 8/15...\n",
      "Generating listing 9/15...\n",
      "Generating listing 10/15...\n",
      "Generating listing 11/15...\n",
      "Generating listing 12/15...\n",
      "Generating listing 13/15...\n",
      "Generating listing 14/15...\n",
      "Generating listing 15/15...\n",
      "Saved 15 listings to home_listings.json\n",
      "[\n",
      "    {\n",
      "        \"Neighborhood\": \"Baltimore\",\n",
      "        \"Price\": \"$400,000\",\n",
      "        \"Bedrooms\": 4,\n",
      "        \"Bathrooms\": 2,\n",
      "        \"House_Size\": \"4,000 sqft\",\n",
      "        \"Description\": \"Welcome to your spacious 4-bedroom haven in Baltimore! This charming house boasts ample natural light, a modern layout, and a convenient parking pad. With 4,000 sqft of living space, enjoy the comfort and room to grow. Nestled near a tranquil park, this home offers a perfect balance of relaxation and urban living.\",\n",
      "        \"Neighborhood_Description\": \"Experience the vibrant community of Baltimore where convenience meets serenity. Discover nearby parks for leisurely strolls and recreational activities. Embrace the local charm and explore a variety of dining options and entertainment venues. Easy access to transportation makes commuting a breeze, ensuring that you're always connected to the pulse of the city.\"\n",
      "    },\n",
      "    {\n",
      "        \"Neighborhood\": \"Washington DC\",\n",
      "        \"Price\": \"$600,000\",\n",
      "        \"Bedrooms\": 2,\n",
      "        \"Bathrooms\": 1,\n",
      "        \"House_Size\": \"1,200 sqft\",\n",
      "        \"Description\": \"Welcome to your charming 2-bedroom home in the heart of Washington DC! This cozy house features a lovely back patio, perfect for enjoying morning coffee or hosting intimate gatherings. With ample natural light, the interior boasts a warm and inviting atmosphere. Don't miss out on the convenience of street parking and the potential to create your own urban oasis.\",\n",
      "        \"Neighborhood_Description\": \"Experience the vibrant energy of Washington DC living in this desirable neighborhood. You'll love the proximity to local parks, trendy restaurants, and convenient transportation options. Enjoy a dynamic blend of history and modernity, making every day an exciting adventure in this bustling city.\"\n",
      "    }\n",
      "]\n"
     ]
    }
   ],
   "source": [
    "prompts = [\n",
    "    \"Generate a listing for a 4-bedroom, 2 bathroom house, with 4,000 sqft in Baltimore, priced at $400,000. The home has a parking pad and is near the park.\",\n",
    "    \"Generate a listing for a 2-bedroom, 1 bathroom house, with 1,200 sqft in Washington DC, priced at $600,000. The home has a back patio and has street parking.\",\n",
    "    \"Generate a listing for a 6-bedroom, 3 bathroom house, with 8,000 sqft in Dallas, priced at $500,000. The home has a large backyard and has three garages.\",\n",
    "    \"Generate a listing for a 1-bedroom, 1 bathroom apartment, with 400 sqft in New York, priced at $800,000. The apartment has bathroom kitchen and features a window.\",\n",
    "    \"Generate a listing for a 2-bedroom, 1 bathroom house, with 1,100 sqft in Baltimore, priced at $205,000. The home has a view of the harbor and is walking distance to the stadiums.\",\n",
    "    \"Generate a listing for a 2-bedroom, 1 bathroom house, with 1,100 sqft in San Francisco, priced at $812,000. The home has is close to public transit and is near a park.\",\n",
    "    \"Generate a listing for a 3-bedroom, 1 bathroom apartment, with 1,100 sqft in Chicago, priced at $700,000. The home is an apartment and has a view of the river.\",\n",
    "    \"Generate a listing for a 3-bedroom, 2 bathroom house, with 2,100 sqft in New York, priced at $500,000. The home is in upstate New York and is near a wings restaurant.\",\n",
    "    \"Generate a listing for a 3-bedroom, 2 bathroom house, with 1,100 sqft in Baltimore, priced at $190,000. The home near Canton square and has many dining options near it.\",\n",
    "    \"Generate a listing for a 2-bedroom, 2 bathroom house, with 1,700 sqft in Dallas, priced at $195,000. The home is near the PGA headquarters and offers many opportunities to golf.\",\n",
    "    \"Generate a listing for a 4-bedroom, 2 bathroom house, with 1,900 sqft in Eldersburg, priced at $450,000. The home is in a great school district.\",\n",
    "    \"Generate a listing for a 4-bedroom, 2 bathroom house, with 1,700 sqft in Phoenix, priced at $400,000. The home is in the desert, has great views and is in a valley.\",\n",
    "    \"Generate a listing for a 6-bedroom, 2 bathroom house, with 6,700 sqft in Dallas, priced at $600,000. The home is in the suberbs of Dallas and is only a 25 min drive from the city.\",\n",
    "    \"Generate a listing for a 1-bedroom, 1 bathroom apartment, with 900 sqft in New York, priced at $800,000. The home is an apartment and is a 15 min walk from the park.\",\n",
    "    \"Generate a listing for a 1-bedroom, 1 bathroom apartment, with 1,200 sqft in Miami, priced at $800,000. The home is an apartment and is a 15 min walk from the beach.\",\n",
    "]\n",
    "\n",
    "listings = generate_multiple_listings(prompts)\n",
    "print(json.dumps(listings[:2], indent=4))"
   ]
  },
  {
   "cell_type": "markdown",
   "id": "641b7877-4f4b-4597-b09c-c50ee424a75a",
   "metadata": {},
   "source": [
    "## Storing Listings in Vector Database"
   ]
  },
  {
   "cell_type": "code",
   "execution_count": 18,
   "id": "4ad95dc6-5396-4c58-b3df-c2425a233a90",
   "metadata": {},
   "outputs": [
    {
     "name": "stdout",
     "output_type": "stream",
     "text": [
      "documents: [Document(page_content=\"Neighborhood: Baltimore\\n    Price: $400,000\\n    Bedrooms: 4\\n    Bathrooms: 2\\n    House Size: 4,000 sqft\\n    \\n    Description: Welcome to your spacious 4-bedroom haven in Baltimore! This charming house boasts ample natural light, a modern layout, and a convenient parking pad. With 4,000 sqft of living space, enjoy the comfort and room to grow. Nestled near a tranquil park, this home offers a perfect balance of relaxation and urban living.\\n    Neighborhood Description: Experience the vibrant community of Baltimore where convenience meets serenity. Discover nearby parks for leisurely strolls and recreational activities. Embrace the local charm and explore a variety of dining options and entertainment venues. Easy access to transportation makes commuting a breeze, ensuring that you're always connected to the pulse of the city.\", metadata={'Neighborhood': 'Baltimore', 'Price': '$400,000', 'Bedrooms': 4, 'Bathrooms': 2, 'House_Size': '4,000 sqft'}), Document(page_content=\"Neighborhood: Washington DC\\n    Price: $600,000\\n    Bedrooms: 2\\n    Bathrooms: 1\\n    House Size: 1,200 sqft\\n    \\n    Description: Welcome to your charming 2-bedroom home in the heart of Washington DC! This cozy house features a lovely back patio, perfect for enjoying morning coffee or hosting intimate gatherings. With ample natural light, the interior boasts a warm and inviting atmosphere. Don't miss out on the convenience of street parking and the potential to create your own urban oasis.\\n    Neighborhood Description: Experience the vibrant energy of Washington DC living in this desirable neighborhood. You'll love the proximity to local parks, trendy restaurants, and convenient transportation options. Enjoy a dynamic blend of history and modernity, making every day an exciting adventure in this bustling city.\", metadata={'Neighborhood': 'Washington DC', 'Price': '$600,000', 'Bedrooms': 2, 'Bathrooms': 1, 'House_Size': '1,200 sqft'}), Document(page_content='Neighborhood: Dallas\\n    Price: $500,000\\n    Bedrooms: 6\\n    Bathrooms: 3\\n    House Size: 8,000 sqft\\n    \\n    Description: Welcome to your spacious 6-bedroom, 3-bathroom home in Dallas! This stunning house boasts a generous 8,000 sqft of living space, perfect for large families or those who love to entertain. Enjoy the luxury of a large backyard, ideal for outdoor gatherings or simply unwinding in your private oasis. With three garages, parking will never be an issue, offering convenience and ample storage space. Embrace comfort and style in this remarkable residence.\\n    Neighborhood Description: Nestled in the vibrant city of Dallas, this neighborhood offers a blend of urban convenience and suburban tranquility. Explore nearby parks, trendy restaurants, and cultural attractions. With easy access to transportation and a thriving community atmosphere, this location provides the perfect balance of city life and suburban charm. Experience the best of both worlds in this sought-after neighborhood.', metadata={'Neighborhood': 'Dallas', 'Price': '$500,000', 'Bedrooms': 6, 'Bathrooms': 3, 'House_Size': '8,000 sqft'}), Document(page_content='Neighborhood: New York\\n    Price: $800,000\\n    Bedrooms: 1\\n    Bathrooms: 1\\n    House Size: 400 sqft\\n    \\n    Description: Welcome to this charming 1-bedroom apartment in the heart of New York! This cozy space features a modern bathroom and kitchen, with the added bonus of a beautiful window that floods the apartment with natural light. Ideal for individuals seeking a stylish and compact urban living experience.\\n    Neighborhood Description: Experience the vibrant energy of New York right at your doorstep. Enjoy easy access to a plethora of restaurants, shops, and cultural attractions. With excellent transportation facilities and a dynamic community atmosphere, living in New York offers a perfect blend of convenience and excitement.', metadata={'Neighborhood': 'New York', 'Price': '$800,000', 'Bedrooms': 1, 'Bathrooms': 1, 'House_Size': '400 sqft'}), Document(page_content=\"Neighborhood: Baltimore\\n    Price: $205,000\\n    Bedrooms: 2\\n    Bathrooms: 1\\n    House Size: 1,100 sqft\\n    \\n    Description: Charming 2-bedroom house in Baltimore offering breathtaking harbor views. This cozy home boasts a well-designed layout with ample natural lighting, creating a warm and inviting atmosphere. Perfect for those seeking a peaceful retreat in the heart of the city. Enjoy the convenience of being within walking distance to stadiums, ensuring you never miss out on the excitement of game days.\\n    Neighborhood Description: Experience the vibrant energy of Baltimore's dynamic neighborhood. With easy access to parks, restaurants, and entertainment venues, this area is a paradise for urban explorers. Embrace a lively community atmosphere and indulge in the diverse culinary scene. The proximity to the harbor adds a touch of serenity to the bustling city life, offering a perfect balance for residents seeking a well-rounded urban experience.\", metadata={'Neighborhood': 'Baltimore', 'Price': '$205,000', 'Bedrooms': 2, 'Bathrooms': 1, 'House_Size': '1,100 sqft'}), Document(page_content='Neighborhood: San Francisco\\n    Price: $812,000\\n    Bedrooms: 2\\n    Bathrooms: 1\\n    House Size: 1,100 sqft\\n    \\n    Description: Charming 2-bedroom home in the heart of San Francisco, offering cozy living spaces with ample natural light. This well-maintained house features a modern kitchen, spacious bedrooms, and a private backyard oasis perfect for relaxation and entertainment. Conveniently located near public transit, parks, and trendy cafes.\\n    Neighborhood Description: Experience the vibrant energy of San Francisco living in this sought-after neighborhood. Enjoy easy access to public transportation options, lush green parks perfect for leisurely strolls, and a diverse culinary scene just steps away from your doorstep. Embrace city living at its finest in this desirable area.', metadata={'Neighborhood': 'San Francisco', 'Price': '$812,000', 'Bedrooms': 2, 'Bathrooms': 1, 'House_Size': '1,100 sqft'}), Document(page_content='Neighborhood: Chicago\\n    Price: $700,000\\n    Bedrooms: 3\\n    Bathrooms: 1\\n    House Size: 1,100 sqft\\n    \\n    Description: This stunning 3-bedroom apartment in the heart of Chicago offers a serene escape with a picturesque view of the river. The modern architecture and spacious layout provide a comfortable living experience. Natural light floods through the windows, illuminating the charming interior features. Perfect for those seeking a luxurious urban retreat.\\n    Neighborhood Description: Located in vibrant Chicago, this neighborhood boasts a dynamic atmosphere with trendy restaurants, cultural attractions, and scenic riverfront views. Residents enjoy easy access to public transportation, lush parks, and a bustling community ambiance. Experience the best of city living surrounded by entertainment, dining, and recreational opportunities.', metadata={'Neighborhood': 'Chicago', 'Price': '$700,000', 'Bedrooms': 3, 'Bathrooms': 1, 'House_Size': '1,100 sqft'}), Document(page_content='Neighborhood: Upstate New York\\n    Price: $500,000\\n    Bedrooms: 3\\n    Bathrooms: 2\\n    House Size: 2,100 sqft\\n    \\n    Description: Welcome to your charming 3-bedroom, 2-bathroom home in serene Upstate New York! This cozy house features a spacious layout with abundant natural light, perfect for enjoying peaceful mornings and evenings. The property boasts a modern architectural style, energy-efficient appliances, and a welcoming atmosphere that makes it ideal for relaxing and entertaining. With 2,100 sqft of living space, this home offers both comfort and functionality, making it a perfect retreat from the bustling city life.\\n    Neighborhood Description: Nestled in the heart of Upstate New York, this neighborhood offers a peaceful and close-knit community ambiance. Enjoy the convenience of being near a popular wings restaurant, where you can indulge in delicious local flavors at your doorstep. Explore nearby parks, scenic trails, and charming local shops, creating a perfect blend of relaxation and entertainment. With easy access to transportation and a friendly atmosphere, Upstate New York provides a desirable lifestyle for those seeking a balance between nature and city amenities.', metadata={'Neighborhood': 'Upstate New York', 'Price': '$500,000', 'Bedrooms': 3, 'Bathrooms': 2, 'House_Size': '2,100 sqft'}), Document(page_content=\"Neighborhood: Baltimore\\n    Price: $190,000\\n    Bedrooms: 3\\n    Bathrooms: 2\\n    House Size: 1,100 sqft\\n    \\n    Description: Welcome to your charming 3-bedroom, 2-bathroom house in the heart of Baltimore! This cozy home features a modern architectural style with ample natural lighting, perfect for creating a warm and inviting atmosphere. The property boasts a spacious layout, ideal for both relaxing and entertaining guests. With a prime location near Canton square, you'll enjoy easy access to a vibrant neighborhood with a variety of dining options right at your doorstep.\\n    Neighborhood Description: Experience the lively community of Baltimore with this home's proximity to Canton square. Indulge in the diverse culinary scene with numerous dining options just a short stroll away. This neighborhood offers a perfect blend of urban convenience and local charm, ensuring you have everything you need within reach. Explore the nearby parks, shops, and entertainment venues for a dynamic lifestyle that awaits you.\", metadata={'Neighborhood': 'Baltimore', 'Price': '$190,000', 'Bedrooms': 3, 'Bathrooms': 2, 'House_Size': '1,100 sqft'}), Document(page_content='Neighborhood: Dallas\\n    Price: $195,000\\n    Bedrooms: 2\\n    Bathrooms: 2\\n    House Size: 1,700 sqft\\n    \\n    Description: Discover a charming 2-bedroom, 2-bathroom home in the vibrant city of Dallas. This cozy abode offers a comfortable living space with abundant natural light, perfect for relaxation or entertaining. Featuring a spacious layout and modern design elements, this home is ideal for those seeking a blend of comfort and style. Enjoy easy access to local amenities and the nearby PGA headquarters, providing ample opportunities for golf enthusiasts.\\n    Neighborhood Description: Nestled in Dallas, this neighborhood offers a perfect blend of urban convenience and suburban tranquility. With close proximity to the prestigious PGA headquarters, residents can indulge in a golf-centric lifestyle. Explore nearby parks, dining options, and entertainment venues, creating a dynamic living experience for all. Enjoy a vibrant community atmosphere and easy access to major highways, making commuting a breeze.', metadata={'Neighborhood': 'Dallas', 'Price': '$195,000', 'Bedrooms': 2, 'Bathrooms': 2, 'House_Size': '1,700 sqft'}), Document(page_content='Neighborhood: Eldersburg\\n    Price: $450,000\\n    Bedrooms: 4\\n    Bathrooms: 2\\n    House Size: 1,900 sqft\\n    \\n    Description: Welcome to your spacious 4-bedroom, 2 bathroom home in Eldersburg! This charming house boasts a cozy yet modern architectural style with ample natural lighting throughout. The property features a well-designed floor plan, perfect for family living and entertaining. Enjoy the convenience of a great school district, ensuring top-notch education for your children.\\n    Neighborhood Description: Nestled in the heart of Eldersburg, this neighborhood offers a peaceful and family-friendly atmosphere. Residents enjoy easy access to top-rated schools, scenic parks, and a variety of dining options. With excellent transportation connections and a strong sense of community, Eldersburg provides the ideal setting for a comfortable and fulfilling lifestyle.', metadata={'Neighborhood': 'Eldersburg', 'Price': '$450,000', 'Bedrooms': 4, 'Bathrooms': 2, 'House_Size': '1,900 sqft'}), Document(page_content='Neighborhood: Phoenix\\n    Price: $400,000\\n    Bedrooms: 4\\n    Bathrooms: 2\\n    House Size: 1,700 sqft\\n    \\n    Description: Welcome to your desert oasis in Phoenix! This 4-bedroom, 2-bathroom home offers stunning views of the surrounding valley, providing a tranquil and picturesque setting. The spacious interior boasts 1,700 sqft of living space, perfect for comfortable living and entertaining. Enjoy the unique experience of living in the desert while being surrounded by the beauty of nature.\\n    Neighborhood Description: The Phoenix neighborhood offers a blend of serene desert landscapes with convenient access to urban amenities. Residents can enjoy the peaceful atmosphere, breathtaking views, and a strong sense of community. Explore nearby parks, hiking trails, and local eateries that capture the essence of Arizona living. With easy access to major highways, shopping centers, and cultural attractions, this neighborhood provides the perfect balance of relaxation and city living.', metadata={'Neighborhood': 'Phoenix', 'Price': '$400,000', 'Bedrooms': 4, 'Bathrooms': 2, 'House_Size': '1,700 sqft'}), Document(page_content='Neighborhood: Dallas Suburbs\\n    Price: $600,000\\n    Bedrooms: 6\\n    Bathrooms: 2\\n    House Size: 6,700 sqft\\n    \\n    Description: Welcome to your spacious 6-bedroom retreat in the peaceful Dallas suburbs! This stunning home offers ample living space ideal for large families or those who love to entertain. Enjoy the modern architectural design, abundance of natural light, and high-end finishes throughout. With 25-minute easy access to the city, you can experience a perfect blend of tranquility and urban convenience.\\n    Neighborhood Description: Nestled in the vibrant Dallas suburbs, this neighborhood offers the best of both worlds. Enjoy a serene environment with well-maintained parks, top-rated schools, and friendly neighbors while still being a short drive away from the bustling city life. Explore local eateries, community events, and recreational activities just minutes from your doorstep. Experience suburban living at its finest in this desirable location!', metadata={'Neighborhood': 'Dallas Suburbs', 'Price': '$600,000', 'Bedrooms': 6, 'Bathrooms': 2, 'House_Size': '6,700 sqft'}), Document(page_content=\"Neighborhood: New York\\n    Price: $800,000\\n    Bedrooms: 1\\n    Bathrooms: 1\\n    House Size: 900 sqft\\n    \\n    Description: Welcome to your sleek 1-bedroom apartment in the heart of New York! This modern gem offers 900 sqft of urban luxury living. The apartment boasts a contemporary design with high ceilings and ample natural light, creating a warm and inviting ambiance. Perfect for those who appreciate efficiency and style, this apartment is a true sanctuary in the bustling city.\\n    Neighborhood Description: Located just a 15-minute walk from the park, this neighborhood offers the perfect blend of city convenience and greenery. Enjoy easy access to local cafes, restaurants, and shops, making it a walker's paradise. With a vibrant community atmosphere and proximity to various attractions, this area provides a dynamic urban living experience for residents.\", metadata={'Neighborhood': 'New York', 'Price': '$800,000', 'Bedrooms': 1, 'Bathrooms': 1, 'House_Size': '900 sqft'}), Document(page_content='Neighborhood: Miami\\n    Price: $800,000\\n    Bedrooms: 1\\n    Bathrooms: 1\\n    House Size: 1,200 sqft\\n    \\n    Description: Welcome to your urban sanctuary in Miami! This 1-bedroom, 1-bathroom apartment offers modern elegance and comfort. With 1,200 sqft of living space, this home features sleek design elements, ample natural light, and a convenient layout. Walk in and experience a blend of style and functionality perfect for contemporary living. Located just a 15-minute walk from the beach, indulge in a coastal lifestyle every day!\\n    Neighborhood Description: Live the vibrant Miami lifestyle in this diverse neighborhood. Enjoy the convenience of being a short stroll away from the sandy beaches, where sunsets are a daily treat. Explore trendy cafes, restaurants, and shops along the vibrant streets. Embrace the energetic atmosphere and easy access to waterfront activities, making this neighborhood a perfect blend of relaxation and excitement.', metadata={'Neighborhood': 'Miami', 'Price': '$800,000', 'Bedrooms': 1, 'Bathrooms': 1, 'House_Size': '1,200 sqft'})]\n"
     ]
    }
   ],
   "source": [
    "with open(\"home_listings.json\", \"r\") as f:\n",
    "    listings = json.load(f)\n",
    "\n",
    "text_splitter = CharacterTextSplitter(chunk_size=500, chunk_overlap=50)\n",
    "documents = []\n",
    "\n",
    "for listing in listings:\n",
    "    full_text = f\"\"\"\n",
    "    Neighborhood: {listing[\"Neighborhood\"]}\n",
    "    Price: {listing[\"Price\"]}\n",
    "    Bedrooms: {listing[\"Bedrooms\"]}\n",
    "    Bathrooms: {listing[\"Bathrooms\"]}\n",
    "    House Size: {listing[\"House_Size\"]}\n",
    "    \n",
    "    Description: {listing[\"Description\"]}\n",
    "    Neighborhood Description: {listing[\"Neighborhood_Description\"]}\n",
    "    \"\"\"\n",
    "\n",
    "    chunks = text_splitter.split_text(full_text)\n",
    "\n",
    "    for chunk in chunks:\n",
    "        doc = Document(page_content=chunk, metadata={\n",
    "            \"Neighborhood\": listing[\"Neighborhood\"],\n",
    "            \"Price\": listing[\"Price\"],\n",
    "            \"Bedrooms\": listing[\"Bedrooms\"],\n",
    "            \"Bathrooms\": listing[\"Bathrooms\"],\n",
    "            \"House_Size\": listing[\"House_Size\"]\n",
    "        })\n",
    "        documents.append(doc)\n",
    "\n",
    "print(f\"documents: {documents}\")"
   ]
  },
  {
   "cell_type": "code",
   "execution_count": 19,
   "id": "edf48f0f-57a3-42b9-9c32-cd69acd6f12f",
   "metadata": {},
   "outputs": [],
   "source": [
    "embeddings = OpenAIEmbeddings()\n",
    "db = Chroma.from_documents(documents, embeddings)"
   ]
  },
  {
   "cell_type": "code",
   "execution_count": null,
   "id": "ff04361a-15b2-4a51-b1f7-170c6bc981ae",
   "metadata": {},
   "outputs": [],
   "source": []
  }
 ],
 "metadata": {
  "kernelspec": {
   "display_name": "Python my_env",
   "language": "python",
   "name": "my_env"
  },
  "language_info": {
   "codemirror_mode": {
    "name": "ipython",
    "version": 3
   },
   "file_extension": ".py",
   "mimetype": "text/x-python",
   "name": "python",
   "nbconvert_exporter": "python",
   "pygments_lexer": "ipython3",
   "version": "3.10.16"
  }
 },
 "nbformat": 4,
 "nbformat_minor": 5
}
