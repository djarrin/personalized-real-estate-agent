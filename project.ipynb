{
 "cells": [
  {
   "cell_type": "markdown",
   "id": "f6433a6e-94ad-4884-b5c1-77a3e7b850a9",
   "metadata": {},
   "source": [
    "## Import Dependencies and Setup Enviroment"
   ]
  },
  {
   "cell_type": "code",
   "execution_count": 30,
   "id": "b29a2848-3f64-4489-9c1b-b91fb0fb69e8",
   "metadata": {},
   "outputs": [],
   "source": [
    "import os\n",
    "import openai\n",
    "import json\n",
    "import time\n",
    "from dotenv import load_dotenv\n",
    "from langchain.llms import OpenAI"
   ]
  },
  {
   "cell_type": "code",
   "execution_count": 31,
   "id": "3029da8b-b6ad-46eb-99dd-7b88cbf22f3f",
   "metadata": {},
   "outputs": [],
   "source": [
    "_ = load_dotenv()\n",
    "openai.api_key = os.getenv(\"OPENAI_API_KEY\")\n",
    "openai.api_base = os.getenv(\"OPENAI_API_BASE\")"
   ]
  },
  {
   "cell_type": "markdown",
   "id": "5eea1725-e12b-4122-ad2d-0f1b6136791c",
   "metadata": {},
   "source": [
    "## Generate Seed Data via LLM"
   ]
  },
  {
   "cell_type": "code",
   "execution_count": 32,
   "id": "afbdafe7-6718-4395-82c0-dd0700f79a15",
   "metadata": {},
   "outputs": [],
   "source": [
    "def generate_home_listings(prompt):\n",
    "    system_prompt = \"\"\"\n",
    "    You are a real estate listing assistant specializing in crafting compelling and informative home descriptions. Your task is to generate real estate listings in a structured format based on user-provided details.\n",
    "    \n",
    "    Each listing should follow this format:\n",
    "    \n",
    "    Neighborhood: [Neighborhood Name]\n",
    "    Price: [$Price]\n",
    "    Bedrooms: [Number of Bedrooms]\n",
    "    Bathrooms: [Number of Bathrooms]\n",
    "    House Size: [Size in sqft]\n",
    "    \n",
    "    Description:\n",
    "    Provide a captivating yet concise property description, emphasizing key selling points such as architectural style, unique features, energy efficiency, or location benefits. Use persuasive language to make the home appealing to potential buyers. Highlight amenities, natural lighting, interior design elements, and lifestyle advantages.\n",
    "    \n",
    "    Neighborhood Description:\n",
    "    Offer a brief, engaging description of the neighborhood. Highlight aspects such as community atmosphere, parks, restaurants, transportation, and local attractions. Focus on features that would be appealing to potential buyers considering the area.\n",
    "    \n",
    "    Maintain a professional and inviting tone, ensuring the listing feels aspirational yet grounded in reality. Avoid exaggeration while emphasizing the home’s best features.\n",
    "    \"\"\"\n",
    "    \n",
    "    try:\n",
    "        response = openai.ChatCompletion.create(\n",
    "          model=\"gpt-3.5-turbo\",\n",
    "          messages=[\n",
    "          {\n",
    "            \"role\": \"system\",\n",
    "            \"content\": system_prompt\n",
    "          },\n",
    "          {\n",
    "            \"role\": \"user\",\n",
    "            \"content\": prompt\n",
    "          }\n",
    "          ],\n",
    "        temperature=1,\n",
    "        max_tokens=256,\n",
    "        top_p=1,\n",
    "        frequency_penalty=0,\n",
    "        presence_penalty=0\n",
    "        )\n",
    "\n",
    "        return response.choices[0].message.content\n",
    "\n",
    "    except Exception as e:\n",
    "        return f\"An error occurred: {e}\" \n",
    "\n",
    "def generate_multiple_listings(prompts):\n",
    "    listings = []\n",
    "\n",
    "    for i, prompt in enumerate(prompts):\n",
    "        print(f\"Generating listing {i+1}/{len(prompts)}...\")\n",
    "        listing = generate_home_listings(prompt)\n",
    "        \n",
    "        if \"An error occurred\" not in listing:\n",
    "            listings.append(listing)\n",
    "        else:\n",
    "            print(f\"Error in listing {i+1}: {listing}\")\n",
    "\n",
    "        time.sleep(1)  \n",
    "\n",
    "    with open(\"home_listings.json\", \"w\") as f:\n",
    "        json.dump(listings, f, indent=4)\n",
    "\n",
    "    print(f\"Saved {len(listings)} listings to home_listings.json\")\n",
    "\n",
    "    return listings"
   ]
  },
  {
   "cell_type": "code",
   "execution_count": 34,
   "id": "4e256a6f-b37b-469f-a43f-56912e0be687",
   "metadata": {},
   "outputs": [
    {
     "name": "stdout",
     "output_type": "stream",
     "text": [
      "Generating listing 1/15...\n",
      "Generating listing 2/15...\n",
      "Generating listing 3/15...\n",
      "Generating listing 4/15...\n",
      "Generating listing 5/15...\n",
      "Generating listing 6/15...\n",
      "Generating listing 7/15...\n",
      "Generating listing 8/15...\n",
      "Generating listing 9/15...\n",
      "Generating listing 10/15...\n",
      "Generating listing 11/15...\n",
      "Generating listing 12/15...\n",
      "Generating listing 13/15...\n",
      "Generating listing 14/15...\n",
      "Generating listing 15/15...\n",
      "Saved 15 listings to home_listings.json\n",
      "[\n",
      "    \"Neighborhood: Baltimore\\nPrice: $400,000\\nBedrooms: 4\\nBathrooms: 2\\nHouse Size: 4,000 sqft\\n\\nDescription:\\nWelcome to your spacious and charming 4-bedroom, 2-bathroom home in the heart of Baltimore! This home boasts a generous 4,000 sqft of living space designed for comfortable and stylish living. The property features a convenient parking pad, ensuring hassle-free parking for you and your guests. Enjoy the tranquility and beauty of the nearby park, perfect for leisurely strolls and outdoor activities. \\n\\nInside, the house exudes a perfect blend of modern convenience and classic charm. Natural light flows effortlessly through the well-appointed rooms, creating a warm and inviting atmosphere. With ample space for relaxation and entertainment, this home is ideal for both quiet nights in and lively gatherings with loved ones. \\n\\nWhether you're drawn to the sleek architectural style, the practical amenities, or the allure of the neighborhood, this home offers a unique and desirable living experience for those seeking both comfort and sophistication.\\n\\nNeighborhood Description:\\nNestled in Baltimore, this neighborhood offers the perfect mix of urban convenience and suburban tranquility. Embrace a vibrant community atmosphere where neighbors quickly become friends. Explore the nearby park for\",\n",
      "    \"Neighborhood: Washington DC\\nPrice: $600,000\\nBedrooms: 2\\nBathrooms: 1\\nHouse Size: 1,200 sqft\\n\\nDescription:\\nWelcome to your charming abode in the heart of Washington DC! This cozy 2-bedroom, 1-bathroom house offers a perfect blend of comfort and convenience. Step inside to discover a thoughtfully designed space that maximizes every square foot. The home features a warm and inviting atmosphere, ideal for relaxing or entertaining guests. Enjoy the serene ambiance of the back patio, perfect for al fresco dining or a morning coffee retreat. With street parking available, parking hassles will be a thing of the past. Don't miss the opportunity to call this gem your own!\\n\\nNeighborhood Description:\\nNestled in the vibrant city of Washington DC, this neighborhood embodies urban living at its finest. Explore a plethora of nearby parks for leisurely strolls or picnics with loved ones. Delight in the diverse culinary scene with cozy cafes and renowned restaurants just around the corner. Convenient transportation options make commuting a breeze, connecting you to all the city has to offer. Immerse yourself in the rich cultural tapestry of Washington DC, with museums, theaters, and iconic landmarks within reach.\"\n",
      "]\n"
     ]
    }
   ],
   "source": [
    "prompts = [\n",
    "    \"Generate a listing for a 4-bedroom, 2 bathroom house, with 4,000 sqft in Baltimore, priced at $400,000. The home has a parking pad and is near the park.\",\n",
    "    \"Generate a listing for a 2-bedroom, 1 bathroom house, with 1,200 sqft in Washington DC, priced at $600,000. The home has a back patio and has street parking.\",\n",
    "    \"Generate a listing for a 6-bedroom, 3 bathroom house, with 8,000 sqft in Dallas, priced at $500,000. The home has a large backyard and has three garages.\",\n",
    "    \"Generate a listing for a 1-bedroom, 1 bathroom apartment, with 400 sqft in New York, priced at $800,000. The apartment has bathroom kitchen and features a window.\",\n",
    "    \"Generate a listing for a 2-bedroom, 1 bathroom house, with 1,100 sqft in Baltimore, priced at $205,000. The home has a view of the harbor and is walking distance to the stadiums.\",\n",
    "    \"Generate a listing for a 2-bedroom, 1 bathroom house, with 1,100 sqft in San Francisco, priced at $812,000. The home has is close to public transit and is near a park.\",\n",
    "    \"Generate a listing for a 3-bedroom, 1 bathroom apartment, with 1,100 sqft in Chicago, priced at $700,000. The home is an apartment and has a view of the river.\",\n",
    "    \"Generate a listing for a 3-bedroom, 2 bathroom house, with 2,100 sqft in New York, priced at $500,000. The home is in upstate New York and is near a wings restaurant.\",\n",
    "    \"Generate a listing for a 3-bedroom, 2 bathroom house, with 1,100 sqft in Baltimore, priced at $190,000. The home near Canton square and has many dining options near it.\",\n",
    "    \"Generate a listing for a 2-bedroom, 2 bathroom house, with 1,700 sqft in Dallas, priced at $195,000. The home is near the PGA headquarters and offers many opportunities to golf.\",\n",
    "    \"Generate a listing for a 4-bedroom, 2 bathroom house, with 1,900 sqft in Eldersburg, priced at $450,000. The home is in a great school district.\",\n",
    "    \"Generate a listing for a 4-bedroom, 2 bathroom house, with 1,700 sqft in Phoenix, priced at $400,000. The home is in the desert, has great views and is in a valley.\",\n",
    "    \"Generate a listing for a 6-bedroom, 2 bathroom house, with 6,700 sqft in Dallas, priced at $600,000. The home is in the suberbs of Dallas and is only a 25 min drive from the city.\",\n",
    "    \"Generate a listing for a 1-bedroom, 1 bathroom apartment, with 900 sqft in New York, priced at $800,000. The home is an apartment and is a 15 min walk from the park.\",\n",
    "    \"Generate a listing for a 1-bedroom, 1 bathroom apartment, with 1,200 sqft in Miami, priced at $800,000. The home is an apartment and is a 15 min walk from the beach.\",\n",
    "]\n",
    "\n",
    "listings = generate_multiple_listings(prompts)\n",
    "print(json.dumps(listings[:2], indent=4))"
   ]
  },
  {
   "cell_type": "code",
   "execution_count": null,
   "id": "5323f1aa-cbfc-4c54-ad88-4b237213c662",
   "metadata": {},
   "outputs": [],
   "source": []
  }
 ],
 "metadata": {
  "kernelspec": {
   "display_name": "Python my_env",
   "language": "python",
   "name": "my_env"
  },
  "language_info": {
   "codemirror_mode": {
    "name": "ipython",
    "version": 3
   },
   "file_extension": ".py",
   "mimetype": "text/x-python",
   "name": "python",
   "nbconvert_exporter": "python",
   "pygments_lexer": "ipython3",
   "version": "3.10.16"
  }
 },
 "nbformat": 4,
 "nbformat_minor": 5
}
